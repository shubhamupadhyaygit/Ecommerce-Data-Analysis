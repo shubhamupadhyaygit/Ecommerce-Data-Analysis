{
 "cells": [
  {
   "cell_type": "markdown",
   "id": "8254ec5c",
   "metadata": {},
   "source": [
    "### SQL + Python Project"
   ]
  },
  {
   "cell_type": "code",
   "execution_count": 1,
   "id": "89120763",
   "metadata": {},
   "outputs": [],
   "source": [
    "import pandas as pd\n",
    "import matplotlib .pyplot as plt\n",
    "import seaborn as sns\n",
    "import mysql.connector\n",
    "import pymysql\n",
    "import os\n",
    "import plotly.express as px\n",
    "import numpy as np"
   ]
  },
  {
   "cell_type": "code",
   "execution_count": 2,
   "id": "c4f11482",
   "metadata": {},
   "outputs": [],
   "source": [
    "# Set pandas to display all columns\n",
    "pd.set_option('display.max_columns', None)\n",
    "# Set pandas to display all columns\n",
    "pd.set_option('display.max_rows', None)"
   ]
  },
  {
   "cell_type": "code",
   "execution_count": 3,
   "id": "3c608d43",
   "metadata": {},
   "outputs": [],
   "source": [
    "# Connect to the MySQL database\n",
    "conn = pymysql.connect(\n",
    "    host='127.0.0.1',\n",
    "    user='root',\n",
    "    password='Shubham@123',\n",
    "    database='ecommerce',\n",
    "    cursorclass=pymysql.cursors.DictCursor\n",
    ")\n",
    "cur = conn.cursor()"
   ]
  },
  {
   "cell_type": "markdown",
   "id": "7371b28e",
   "metadata": {},
   "source": [
    "### 1: List all unique cities where customers are located."
   ]
  },
  {
   "cell_type": "code",
   "execution_count": 19,
   "id": "2179120a",
   "metadata": {},
   "outputs": [
    {
     "data": {
      "text/html": [
       "<div>\n",
       "<style scoped>\n",
       "    .dataframe tbody tr th:only-of-type {\n",
       "        vertical-align: middle;\n",
       "    }\n",
       "\n",
       "    .dataframe tbody tr th {\n",
       "        vertical-align: top;\n",
       "    }\n",
       "\n",
       "    .dataframe thead th {\n",
       "        text-align: right;\n",
       "    }\n",
       "</style>\n",
       "<table border=\"1\" class=\"dataframe\">\n",
       "  <thead>\n",
       "    <tr style=\"text-align: right;\">\n",
       "      <th></th>\n",
       "      <th>customer_city</th>\n",
       "    </tr>\n",
       "  </thead>\n",
       "  <tbody>\n",
       "    <tr>\n",
       "      <th>0</th>\n",
       "      <td>franca</td>\n",
       "    </tr>\n",
       "    <tr>\n",
       "      <th>1</th>\n",
       "      <td>sao bernardo do campo</td>\n",
       "    </tr>\n",
       "    <tr>\n",
       "      <th>2</th>\n",
       "      <td>sao paulo</td>\n",
       "    </tr>\n",
       "    <tr>\n",
       "      <th>3</th>\n",
       "      <td>mogi das cruzes</td>\n",
       "    </tr>\n",
       "    <tr>\n",
       "      <th>4</th>\n",
       "      <td>campinas</td>\n",
       "    </tr>\n",
       "  </tbody>\n",
       "</table>\n",
       "</div>"
      ],
      "text/plain": [
       "           customer_city\n",
       "0                 franca\n",
       "1  sao bernardo do campo\n",
       "2              sao paulo\n",
       "3        mogi das cruzes\n",
       "4               campinas"
      ]
     },
     "metadata": {},
     "output_type": "display_data"
    },
    {
     "data": {
      "text/plain": [
       "customer_city    4119\n",
       "dtype: int64"
      ]
     },
     "metadata": {},
     "output_type": "display_data"
    }
   ],
   "source": [
    "query = \"\"\" select distinct customer_city from customers \"\"\"\n",
    "\n",
    "cur.execute(query)\n",
    "\n",
    "data = cur.fetchall()\n",
    "data\n",
    "df = pd.DataFrame(data)\n",
    "\n",
    "display(df.head(),df.count())"
   ]
  },
  {
   "cell_type": "markdown",
   "id": "33c37837",
   "metadata": {},
   "source": [
    "### 2: Count the number of orders placed in 2017."
   ]
  },
  {
   "cell_type": "code",
   "execution_count": 21,
   "id": "2751f2a6",
   "metadata": {},
   "outputs": [
    {
     "data": {
      "text/html": [
       "<div>\n",
       "<style scoped>\n",
       "    .dataframe tbody tr th:only-of-type {\n",
       "        vertical-align: middle;\n",
       "    }\n",
       "\n",
       "    .dataframe tbody tr th {\n",
       "        vertical-align: top;\n",
       "    }\n",
       "\n",
       "    .dataframe thead th {\n",
       "        text-align: right;\n",
       "    }\n",
       "</style>\n",
       "<table border=\"1\" class=\"dataframe\">\n",
       "  <thead>\n",
       "    <tr style=\"text-align: right;\">\n",
       "      <th></th>\n",
       "      <th>year(order_purchase_timestamp)</th>\n",
       "      <th>order_count</th>\n",
       "    </tr>\n",
       "  </thead>\n",
       "  <tbody>\n",
       "    <tr>\n",
       "      <th>0</th>\n",
       "      <td>2017</td>\n",
       "      <td>45101</td>\n",
       "    </tr>\n",
       "    <tr>\n",
       "      <th>1</th>\n",
       "      <td>2018</td>\n",
       "      <td>54011</td>\n",
       "    </tr>\n",
       "    <tr>\n",
       "      <th>2</th>\n",
       "      <td>2016</td>\n",
       "      <td>329</td>\n",
       "    </tr>\n",
       "  </tbody>\n",
       "</table>\n",
       "</div>"
      ],
      "text/plain": [
       "   year(order_purchase_timestamp)  order_count\n",
       "0                            2017        45101\n",
       "1                            2018        54011\n",
       "2                            2016          329"
      ]
     },
     "execution_count": 21,
     "metadata": {},
     "output_type": "execute_result"
    }
   ],
   "source": [
    "query = \"\"\" select year(order_purchase_timestamp),count(order_id) 'order_count' from orders \n",
    "group by 1\n",
    "\"\"\"\n",
    "\n",
    "cur.execute(query)\n",
    "\n",
    "data = cur.fetchall()\n",
    "df = pd.DataFrame(data)\n",
    "df"
   ]
  },
  {
   "cell_type": "markdown",
   "id": "bf3bfc5b",
   "metadata": {},
   "source": [
    "### 3: Find the total sales per category"
   ]
  },
  {
   "cell_type": "code",
   "execution_count": 6,
   "id": "caff1680",
   "metadata": {},
   "outputs": [
    {
     "data": {
      "text/html": [
       "<div>\n",
       "<style scoped>\n",
       "    .dataframe tbody tr th:only-of-type {\n",
       "        vertical-align: middle;\n",
       "    }\n",
       "\n",
       "    .dataframe tbody tr th {\n",
       "        vertical-align: top;\n",
       "    }\n",
       "\n",
       "    .dataframe thead th {\n",
       "        text-align: right;\n",
       "    }\n",
       "</style>\n",
       "<table border=\"1\" class=\"dataframe\">\n",
       "  <thead>\n",
       "    <tr style=\"text-align: right;\">\n",
       "      <th></th>\n",
       "      <th>product_category</th>\n",
       "      <th>Total_order</th>\n",
       "      <th>Sales_Price</th>\n",
       "    </tr>\n",
       "  </thead>\n",
       "  <tbody>\n",
       "    <tr>\n",
       "      <th>19</th>\n",
       "      <td>bed table bath</td>\n",
       "      <td>11823</td>\n",
       "      <td>1712554.0</td>\n",
       "    </tr>\n",
       "    <tr>\n",
       "      <th>16</th>\n",
       "      <td>HEALTH BEAUTY</td>\n",
       "      <td>9975</td>\n",
       "      <td>1657373.0</td>\n",
       "    </tr>\n",
       "    <tr>\n",
       "      <th>6</th>\n",
       "      <td>computer accessories</td>\n",
       "      <td>8082</td>\n",
       "      <td>1585330.0</td>\n",
       "    </tr>\n",
       "    <tr>\n",
       "      <th>15</th>\n",
       "      <td>Furniture Decoration</td>\n",
       "      <td>8744</td>\n",
       "      <td>1430176.0</td>\n",
       "    </tr>\n",
       "    <tr>\n",
       "      <th>4</th>\n",
       "      <td>Watches present</td>\n",
       "      <td>6201</td>\n",
       "      <td>1429217.0</td>\n",
       "    </tr>\n",
       "  </tbody>\n",
       "</table>\n",
       "</div>"
      ],
      "text/plain": [
       "        product_category  Total_order  Sales_Price\n",
       "19        bed table bath        11823    1712554.0\n",
       "16         HEALTH BEAUTY         9975    1657373.0\n",
       "6   computer accessories         8082    1585330.0\n",
       "15  Furniture Decoration         8744    1430176.0\n",
       "4        Watches present         6201    1429217.0"
      ]
     },
     "execution_count": 6,
     "metadata": {},
     "output_type": "execute_result"
    }
   ],
   "source": [
    "query = \"\"\" select p.product_category,count(oi.order_id) 'Total_order',\n",
    "round(sum(pe.payment_value),0) 'Sales_Price'\n",
    " from ecommerce.products p \n",
    "left join ecommerce.order_items oi on oi.product_id = p.product_id\n",
    "left join ecommerce.payments pe on pe.order_id = oi.order_id\n",
    "GROUP BY 1\n",
    "\"\"\"\n",
    "\n",
    "cur.execute(query)\n",
    "data = cur.fetchall()\n",
    "data\n",
    "\n",
    "df = pd.DataFrame(data)\n",
    "df.sort_values(by='Sales_Price', ascending=False).head()\n"
   ]
  },
  {
   "cell_type": "markdown",
   "id": "9a4f9c4d",
   "metadata": {},
   "source": [
    "### 4: Calculate the percentage of orders that were paid in installments."
   ]
  },
  {
   "cell_type": "code",
   "execution_count": 7,
   "id": "0d9e794c",
   "metadata": {},
   "outputs": [
    {
     "data": {
      "text/html": [
       "<div>\n",
       "<style scoped>\n",
       "    .dataframe tbody tr th:only-of-type {\n",
       "        vertical-align: middle;\n",
       "    }\n",
       "\n",
       "    .dataframe tbody tr th {\n",
       "        vertical-align: top;\n",
       "    }\n",
       "\n",
       "    .dataframe thead th {\n",
       "        text-align: right;\n",
       "    }\n",
       "</style>\n",
       "<table border=\"1\" class=\"dataframe\">\n",
       "  <thead>\n",
       "    <tr style=\"text-align: right;\">\n",
       "      <th></th>\n",
       "      <th>%_of_installment_greater_than_1</th>\n",
       "    </tr>\n",
       "  </thead>\n",
       "  <tbody>\n",
       "    <tr>\n",
       "      <th>0</th>\n",
       "      <td>99.9981</td>\n",
       "    </tr>\n",
       "  </tbody>\n",
       "</table>\n",
       "</div>"
      ],
      "text/plain": [
       "  %_of_installment_greater_than_1\n",
       "0                         99.9981"
      ]
     },
     "execution_count": 7,
     "metadata": {},
     "output_type": "execute_result"
    }
   ],
   "source": [
    " query = \"\"\" select \n",
    " sum(case when payment_installments >= 1 then 1 ELSE 0 END)/count(*)*100 \n",
    " as '%_of_installment_greater_than_1' \n",
    " from ecommerce.payments\n",
    "\"\"\"\n",
    "\n",
    "cur.execute(query)\n",
    "data = cur.fetchall()\n",
    "data\n",
    "\n",
    "df = pd.DataFrame(data)\n",
    "df\n"
   ]
  },
  {
   "cell_type": "markdown",
   "id": "8249a5f3",
   "metadata": {},
   "source": [
    "### 5. Count the number of customers from each state."
   ]
  },
  {
   "cell_type": "code",
   "execution_count": 24,
   "id": "2d5004a6",
   "metadata": {},
   "outputs": [
    {
     "name": "stderr",
     "output_type": "stream",
     "text": [
      "D:\\Anaconda\\lib\\site-packages\\seaborn\\_decorators.py:36: FutureWarning: Pass the following variables as keyword args: x, y. From version 0.12, the only valid positional argument will be `data`, and passing other arguments without an explicit keyword will result in an error or misinterpretation.\n",
      "  warnings.warn(\n"
     ]
    },
    {
     "data": {
      "image/png": "[encoded data removed]",
      "text/plain": [
       "<Figure size 864x576 with 1 Axes>"
      ]
     },
     "metadata": {
      "needs_background": "light"
     },
     "output_type": "display_data"
    }
   ],
   "source": [
    " query = \"\"\"  select customer_state,count(customer_id) 'Customer_count' \n",
    " from ecommerce.customers\n",
    " GROUP BY 1;\n",
    "\"\"\"\n",
    "\n",
    "cur.execute(query)\n",
    "data = cur.fetchall()\n",
    "data\n",
    "\n",
    "df = pd.DataFrame(data)\n",
    "df\n",
    "\n",
    "df = df.sort_values(by = 'Customer_count', ascending= False)\n",
    "\n",
    "# Adjust the figure size\n",
    "plt.figure(figsize=(12, 8))\n",
    "\n",
    "# Create the bar plot\n",
    "ax = sns.barplot(df['customer_state'], df['Customer_count'], data=df)\n",
    "plt.xlabel('States')\n",
    "plt.ylabel('Customer Count')\n",
    "plt.title('Count of customer by state')\n",
    "# Rotate x-axis labels for better readability\n",
    "plt.xticks(rotation=90)\n",
    "\n",
    "ax.bar_label(ax.containers[0])\n",
    "# Show the plot\n",
    "plt.show()\n"
   ]
  },
  {
   "cell_type": "markdown",
   "id": "a1db777d",
   "metadata": {},
   "source": [
    "-  MG - Minas Gerais\n",
    "-  RS - Rio Grande do Sul\n",
    "-  PR - Paraná\n",
    "-  SC - Santa Catarina\n",
    "-  BA - Bahia\n",
    "-  DF - Distrito Federal\n",
    "-  ES - Espírito Santo\n",
    "-  PE - Pernambuco\n",
    "-  CE - Ceará\n",
    "-  MA - Maranhão\n",
    "-  MS - Mato Grosso do Sul\n",
    "-  PB - Paraíba\n",
    "-  PI - Piauí\n",
    "-  RN - Rio Grande do Norte\n",
    "-  RO - Rondônia\n",
    "-  AM - Amazonas\n",
    "-  AC - Acre\n",
    "-  AP - Amapá\n",
    "-  RR - Roraima\n",
    "-  GO - Goiás "
   ]
  },
  {
   "cell_type": "markdown",
   "id": "499146d7",
   "metadata": {},
   "source": [
    "###  6: Calculate the number of orders per month in 2018."
   ]
  },
  {
   "cell_type": "code",
   "execution_count": 9,
   "id": "ce913fb1",
   "metadata": {},
   "outputs": [
    {
     "data": {
      "image/png": "[encoded data removed]",
      "text/plain": [
       "<Figure size 864x576 with 1 Axes>"
      ]
     },
     "metadata": {
      "needs_background": "light"
     },
     "output_type": "display_data"
    }
   ],
   "source": [
    " query = \"\"\"  select month(order_purchase_timestamp) 'MonthNumber',\n",
    " monthname(order_purchase_timestamp) 'MonthName',count(order_id) 'Orders_Count'\n",
    " from ecommerce.orders\n",
    " where year(order_purchase_timestamp) = '2018'\n",
    " GROUP BY 1,2\n",
    " ORDER BY 1;\n",
    "\"\"\"\n",
    "\n",
    "cur.execute(query)\n",
    "data = cur.fetchall()\n",
    "data\n",
    "\n",
    "df = pd.DataFrame(data)\n",
    "df\n",
    "\n",
    "# Adjust the figure size\n",
    "plt.figure(figsize=(12, 8))\n",
    "\n",
    "# Create the bar plot using Seaborn\n",
    "ax = sns.barplot(x=df['MonthName'], y=df['Orders_Count'], data=df, order=df['MonthName'].unique())\n",
    "\n",
    "# Rotate x-axis labels for better readability\n",
    "plt.xticks(rotation=45)\n",
    "plt.xlabel('Month Name')\n",
    "plt.ylabel('Oerder Count')\n",
    "plt.title('Order count by month')\n",
    "\n",
    "# Add bar labels\n",
    "# for container in ax.containers:\n",
    "#     ax.bar_label(container)\n",
    "    \n",
    "ax.bar_label(ax.containers[0])\n",
    "\n",
    "# Show the plot\n",
    "plt.show()"
   ]
  },
  {
   "cell_type": "markdown",
   "id": "944c11aa",
   "metadata": {},
   "source": [
    "### 7: Find the average number of products per order, grouped by customer city."
   ]
  },
  {
   "cell_type": "code",
   "execution_count": 10,
   "id": "45fa5c97",
   "metadata": {},
   "outputs": [
    {
     "data": {
      "text/html": [
       "<div>\n",
       "<style scoped>\n",
       "    .dataframe tbody tr th:only-of-type {\n",
       "        vertical-align: middle;\n",
       "    }\n",
       "\n",
       "    .dataframe tbody tr th {\n",
       "        vertical-align: top;\n",
       "    }\n",
       "\n",
       "    .dataframe thead th {\n",
       "        text-align: right;\n",
       "    }\n",
       "</style>\n",
       "<table border=\"1\" class=\"dataframe\">\n",
       "  <thead>\n",
       "    <tr style=\"text-align: right;\">\n",
       "      <th></th>\n",
       "      <th>customer_city</th>\n",
       "      <th>Average_order</th>\n",
       "    </tr>\n",
       "  </thead>\n",
       "  <tbody>\n",
       "    <tr>\n",
       "      <th>0</th>\n",
       "      <td>padre carvalho</td>\n",
       "      <td>7.00</td>\n",
       "    </tr>\n",
       "    <tr>\n",
       "      <th>1</th>\n",
       "      <td>celso ramos</td>\n",
       "      <td>6.50</td>\n",
       "    </tr>\n",
       "    <tr>\n",
       "      <th>2</th>\n",
       "      <td>datas</td>\n",
       "      <td>6.00</td>\n",
       "    </tr>\n",
       "    <tr>\n",
       "      <th>3</th>\n",
       "      <td>candido godoi</td>\n",
       "      <td>6.00</td>\n",
       "    </tr>\n",
       "    <tr>\n",
       "      <th>4</th>\n",
       "      <td>matias olimpio</td>\n",
       "      <td>5.00</td>\n",
       "    </tr>\n",
       "  </tbody>\n",
       "</table>\n",
       "</div>"
      ],
      "text/plain": [
       "    customer_city Average_order\n",
       "0  padre carvalho          7.00\n",
       "1     celso ramos          6.50\n",
       "2           datas          6.00\n",
       "3   candido godoi          6.00\n",
       "4  matias olimpio          5.00"
      ]
     },
     "execution_count": 10,
     "metadata": {},
     "output_type": "execute_result"
    }
   ],
   "source": [
    " query = \"\"\"  WITH ac AS \n",
    "( SELECT o.order_id,o.customer_id,COUNT(oi.order_id) AS order_count,GROUP_CONCAT(oi.order_id) AS order_ids\n",
    "FROM ecommerce.orders o\n",
    "LEFT JOIN ecommerce.order_items oi ON oi.order_id = o.order_id\n",
    "GROUP BY o.order_id, o.customer_id\n",
    ")\n",
    "SELECT c.customer_city,round(avg(order_count),2)  'Average_order' FROM ac\n",
    "LEFT JOIN ecommerce.customers c ON c.customer_id = ac.customer_id\n",
    "GROUP BY 1\n",
    "ORDER BY 2 DESC;\n",
    "\"\"\"\n",
    "\n",
    "cur.execute(query)\n",
    "data = cur.fetchall()\n",
    "data\n",
    "\n",
    "df = pd.DataFrame(data)\n",
    "df.head()\n"
   ]
  },
  {
   "cell_type": "markdown",
   "id": "c56b9e8f",
   "metadata": {},
   "source": [
    "### 8. Calculate the percentage of total revenue contributed by each product category."
   ]
  },
  {
   "cell_type": "code",
   "execution_count": 11,
   "id": "a7de5341",
   "metadata": {},
   "outputs": [
    {
     "data": {
      "text/html": [
       "<div>\n",
       "<style scoped>\n",
       "    .dataframe tbody tr th:only-of-type {\n",
       "        vertical-align: middle;\n",
       "    }\n",
       "\n",
       "    .dataframe tbody tr th {\n",
       "        vertical-align: top;\n",
       "    }\n",
       "\n",
       "    .dataframe thead th {\n",
       "        text-align: right;\n",
       "    }\n",
       "</style>\n",
       "<table border=\"1\" class=\"dataframe\">\n",
       "  <thead>\n",
       "    <tr style=\"text-align: right;\">\n",
       "      <th></th>\n",
       "      <th>product_category</th>\n",
       "      <th>Total_order</th>\n",
       "      <th>Sales_Price</th>\n",
       "      <th>Sales_Price%</th>\n",
       "    </tr>\n",
       "  </thead>\n",
       "  <tbody>\n",
       "    <tr>\n",
       "      <th>0</th>\n",
       "      <td>bed table bath</td>\n",
       "      <td>11823</td>\n",
       "      <td>1712554.0</td>\n",
       "      <td>11.0</td>\n",
       "    </tr>\n",
       "    <tr>\n",
       "      <th>1</th>\n",
       "      <td>computer accessories</td>\n",
       "      <td>8082</td>\n",
       "      <td>1585330.0</td>\n",
       "      <td>10.0</td>\n",
       "    </tr>\n",
       "    <tr>\n",
       "      <th>2</th>\n",
       "      <td>HEALTH BEAUTY</td>\n",
       "      <td>9975</td>\n",
       "      <td>1657373.0</td>\n",
       "      <td>10.0</td>\n",
       "    </tr>\n",
       "    <tr>\n",
       "      <th>3</th>\n",
       "      <td>sport leisure</td>\n",
       "      <td>8945</td>\n",
       "      <td>1392128.0</td>\n",
       "      <td>9.0</td>\n",
       "    </tr>\n",
       "    <tr>\n",
       "      <th>4</th>\n",
       "      <td>Watches present</td>\n",
       "      <td>6201</td>\n",
       "      <td>1429217.0</td>\n",
       "      <td>9.0</td>\n",
       "    </tr>\n",
       "  </tbody>\n",
       "</table>\n",
       "</div>"
      ],
      "text/plain": [
       "       product_category  Total_order  Sales_Price  Sales_Price%\n",
       "0        bed table bath        11823    1712554.0          11.0\n",
       "1  computer accessories         8082    1585330.0          10.0\n",
       "2         HEALTH BEAUTY         9975    1657373.0          10.0\n",
       "3         sport leisure         8945    1392128.0           9.0\n",
       "4       Watches present         6201    1429217.0           9.0"
      ]
     },
     "execution_count": 11,
     "metadata": {},
     "output_type": "execute_result"
    }
   ],
   "source": [
    " query = \"\"\"  select p.product_category,count(oi.order_id) 'Total_order',round(sum(pe.payment_value),0) as 'Sales_Price',\n",
    "round(round(round(sum(pe.payment_value),0)/(select sum(payment_value) from payments),2)*100,2) 'Sales_Price%'\n",
    " from ecommerce.products p \n",
    "left join ecommerce.order_items oi on oi.product_id = p.product_id\n",
    "left join ecommerce.payments pe on pe.order_id = oi.order_id\n",
    "GROUP BY 1 \n",
    "ORDER BY 4 desc;\n",
    "\"\"\"\n",
    "\n",
    "cur.execute(query)\n",
    "data = cur.fetchall()\n",
    "data\n",
    "\n",
    "df = pd.DataFrame(data)\n",
    "df.head()\n"
   ]
  },
  {
   "cell_type": "markdown",
   "id": "c2644048",
   "metadata": {},
   "source": [
    "### 9. Identify the correlation between product price and the number of times a product has been purchased."
   ]
  },
  {
   "cell_type": "code",
   "execution_count": 12,
   "id": "7746e29c",
   "metadata": {},
   "outputs": [
    {
     "name": "stdout",
     "output_type": "stream",
     "text": [
      "               Orders_count  Average_price     price\n",
      "Orders_count       1.000000      -0.106315  0.950330\n",
      "Average_price     -0.106315       1.000000  0.020548\n",
      "price              0.950330       0.020548  1.000000\n"
     ]
    }
   ],
   "source": [
    " query = \"\"\"  select p.product_category,count(oi.order_id) 'Orders_count',round(avg(oi.price),2) 'Average_price',sum(oi.price) 'price'\n",
    " from ecommerce.products p\n",
    "join ecommerce.order_items oi on oi.product_id = p.product_id\n",
    "GROUP BY p.product_category;\n",
    "\"\"\"\n",
    "\n",
    "cur.execute(query)\n",
    "data = cur.fetchall()\n",
    "data\n",
    "\n",
    "df = pd.DataFrame(data)\n",
    "df.head()\n",
    "\n",
    "# Calculate the correlation matrix using Pearson method\n",
    "correlation_matrix = df.corr(method='pearson')\n",
    "\n",
    "print(correlation_matrix)\n"
   ]
  },
  {
   "cell_type": "markdown",
   "id": "fccda070",
   "metadata": {},
   "source": [
    "### 10. Calculate the total revenue generated by each seller, and rank them by revenue."
   ]
  },
  {
   "cell_type": "code",
   "execution_count": 13,
   "id": "dc6deb64",
   "metadata": {},
   "outputs": [
    {
     "data": {
      "image/png": "[encoded data removed]",
      "text/plain": [
       "<Figure size 432x288 with 1 Axes>"
      ]
     },
     "metadata": {
      "needs_background": "light"
     },
     "output_type": "display_data"
    }
   ],
   "source": [
    " query = \"\"\"  with t as\n",
    "(select s.seller_id,round(sum(p.payment_value),2) 'Payments' from ecommerce.sellers s\n",
    "left join ecommerce.order_items oi on oi.seller_id = s.seller_id\n",
    "left join ecommerce.payments p on p.order_id = oi.order_id\n",
    "GROUP BY 1)\n",
    "select t.seller_id,t.Payments,dense_rank() over(ORDER BY t.Payments desc) as 'Ranking'\n",
    "from t;\n",
    "\"\"\"\n",
    "\n",
    "cur.execute(query)\n",
    "data = cur.fetchall()\n",
    "data\n",
    "\n",
    "df = pd.DataFrame(data)\n",
    "df = df.head()\n",
    "\n",
    "ax = sns.barplot(x = df['seller_id'],y = df['Payments'], data = df)\n",
    "plt.xticks(rotation=45)\n",
    "ax.bar_label(ax.containers[0])\n",
    "\n",
    "plt.show()"
   ]
  },
  {
   "cell_type": "markdown",
   "id": "ecf2c811",
   "metadata": {},
   "source": [
    "### 11. Calculate the moving average of order values for each customer over their order history."
   ]
  },
  {
   "cell_type": "code",
   "execution_count": 14,
   "id": "03a4c76a",
   "metadata": {},
   "outputs": [
    {
     "data": {
      "text/html": [
       "<div>\n",
       "<style scoped>\n",
       "    .dataframe tbody tr th:only-of-type {\n",
       "        vertical-align: middle;\n",
       "    }\n",
       "\n",
       "    .dataframe tbody tr th {\n",
       "        vertical-align: top;\n",
       "    }\n",
       "\n",
       "    .dataframe thead th {\n",
       "        text-align: right;\n",
       "    }\n",
       "</style>\n",
       "<table border=\"1\" class=\"dataframe\">\n",
       "  <thead>\n",
       "    <tr style=\"text-align: right;\">\n",
       "      <th></th>\n",
       "      <th>customer_id</th>\n",
       "      <th>order_purchase_timestamp</th>\n",
       "      <th>payment_value</th>\n",
       "      <th>moving_average</th>\n",
       "    </tr>\n",
       "  </thead>\n",
       "  <tbody>\n",
       "    <tr>\n",
       "      <th>0</th>\n",
       "      <td>00012a2ce6f8dcda20d059ce98491703</td>\n",
       "      <td>2017-11-14 16:08:26</td>\n",
       "      <td>114.74</td>\n",
       "      <td>114.74</td>\n",
       "    </tr>\n",
       "    <tr>\n",
       "      <th>1</th>\n",
       "      <td>000161a058600d5901f007fab4c27140</td>\n",
       "      <td>2017-07-16 09:40:32</td>\n",
       "      <td>67.41</td>\n",
       "      <td>67.41</td>\n",
       "    </tr>\n",
       "    <tr>\n",
       "      <th>2</th>\n",
       "      <td>0001fd6190edaaf884bcaf3d49edf079</td>\n",
       "      <td>2017-02-28 11:06:43</td>\n",
       "      <td>195.42</td>\n",
       "      <td>195.42</td>\n",
       "    </tr>\n",
       "    <tr>\n",
       "      <th>3</th>\n",
       "      <td>0002414f95344307404f0ace7a26f1d5</td>\n",
       "      <td>2017-08-16 13:09:20</td>\n",
       "      <td>179.35</td>\n",
       "      <td>179.35</td>\n",
       "    </tr>\n",
       "    <tr>\n",
       "      <th>4</th>\n",
       "      <td>000379cdec625522490c315e70c7a9fb</td>\n",
       "      <td>2018-04-02 13:42:17</td>\n",
       "      <td>107.01</td>\n",
       "      <td>107.01</td>\n",
       "    </tr>\n",
       "  </tbody>\n",
       "</table>\n",
       "</div>"
      ],
      "text/plain": [
       "                        customer_id order_purchase_timestamp  payment_value  \\\n",
       "0  00012a2ce6f8dcda20d059ce98491703      2017-11-14 16:08:26         114.74   \n",
       "1  000161a058600d5901f007fab4c27140      2017-07-16 09:40:32          67.41   \n",
       "2  0001fd6190edaaf884bcaf3d49edf079      2017-02-28 11:06:43         195.42   \n",
       "3  0002414f95344307404f0ace7a26f1d5      2017-08-16 13:09:20         179.35   \n",
       "4  000379cdec625522490c315e70c7a9fb      2018-04-02 13:42:17         107.01   \n",
       "\n",
       "   moving_average  \n",
       "0          114.74  \n",
       "1           67.41  \n",
       "2          195.42  \n",
       "3          179.35  \n",
       "4          107.01  "
      ]
     },
     "execution_count": 14,
     "metadata": {},
     "output_type": "execute_result"
    }
   ],
   "source": [
    " query = \"\"\"  select o.customer_id,o.order_purchase_timestamp,p.payment_value,\n",
    "round(avg(p.payment_value) over(PARTITION BY o.customer_id ORDER BY o.order_purchase_timestamp \n",
    "ROWS BETWEEN 2 PRECEDING and CURRENT ROW),2) 'moving_average'\n",
    "from ecommerce.payments p\n",
    "left join ecommerce.orders o on o.order_id = p.order_id;\n",
    "\"\"\"\n",
    "\n",
    "cur.execute(query)\n",
    "data = cur.fetchall()\n",
    "data\n",
    "\n",
    "df = pd.DataFrame(data)\n",
    "df.head()"
   ]
  },
  {
   "cell_type": "markdown",
   "id": "8b58d66e",
   "metadata": {},
   "source": [
    "### 12. Calculate the cumulative sales per month for each year."
   ]
  },
  {
   "cell_type": "code",
   "execution_count": 15,
   "id": "3f7c2bec",
   "metadata": {},
   "outputs": [
    {
     "data": {
      "image/png": "[encoded data removed]",
      "text/plain": [
       "<Figure size 432x288 with 1 Axes>"
      ]
     },
     "metadata": {
      "needs_background": "light"
     },
     "output_type": "display_data"
    },
    {
     "data": {
      "image/png": "[encoded data removed]",
      "text/plain": [
       "<Figure size 432x288 with 1 Axes>"
      ]
     },
     "metadata": {
      "needs_background": "light"
     },
     "output_type": "display_data"
    },
    {
     "data": {
      "image/png": "[encoded data removed]",
      "text/plain": [
       "<Figure size 432x288 with 1 Axes>"
      ]
     },
     "metadata": {
      "needs_background": "light"
     },
     "output_type": "display_data"
    }
   ],
   "source": [
    " query = \"\"\"  \n",
    "with a as\n",
    "(select year(o.order_purchase_timestamp) 'Yeary',month(o.order_purchase_timestamp) 'Monthn'\n",
    ",monthname(o.order_purchase_timestamp) 'Monthname',\n",
    "round(sum(p.payment_value),2) 'Payments'\n",
    " from ecommerce.payments p\n",
    "left join ecommerce.orders o on o.order_id = p.order_id\n",
    "GROUP BY Yeary,Monthn,Monthname\n",
    "ORDER BY Yeary,Monthn)\n",
    "select a.Yeary,a.Monthname,concat(a.Yeary,\" \",a.Monthname) 'Year_Month',\n",
    "a.Payments,Round(sum(a.Payments) over(ORDER BY a.Yeary,a.Monthn),2) 'cumsum'\n",
    " from a;\n",
    "\n",
    "\"\"\"\n",
    "\n",
    "cur.execute(query)\n",
    "data = cur.fetchall()\n",
    "data\n",
    "\n",
    "df = pd.DataFrame(data)\n",
    "df.head()\n",
    "\n",
    "# sns.lineplot(x = df['Yeary','Monthname'],y = df['cumsum'],data = df)\n",
    "# plt.xticks(rotation=45)\n",
    "# ax.bar_label(ax.containers[0])\n",
    "\n",
    "# plt.show()\n",
    "\n",
    "# Create the line plot for yearly cumulative sum\n",
    "sns.lineplot(x='Yeary', y='cumsum', data=df)\n",
    "plt.xticks(rotation=45)\n",
    "plt.title('Yearly Cumulative Sum of Payments')\n",
    "plt.show()\n",
    "\n",
    "# Create the line plot for monthly cumulative sum\n",
    "sns.lineplot(x='Monthname', y='cumsum', data=df)\n",
    "plt.xticks(rotation=45)\n",
    "plt.title('Monthly Cumulative Sum of Payments')\n",
    "plt.show()\n",
    "\n",
    "\n",
    "# Create the line plot for monthly cumulative sum\n",
    "sns.lineplot(x='Year_Month', y='cumsum', data=df)\n",
    "plt.xticks(rotation=90)\n",
    "plt.title('Year_Month Cumulative Sum of Payments')\n",
    "plt.show()\n"
   ]
  },
  {
   "cell_type": "markdown",
   "id": "a0164430",
   "metadata": {},
   "source": [
    "### 13. Calculate the year-over-year growth rate of total sales."
   ]
  },
  {
   "cell_type": "code",
   "execution_count": 16,
   "id": "2235c6a7",
   "metadata": {},
   "outputs": [
    {
     "data": {
      "text/html": [
       "<div>\n",
       "<style scoped>\n",
       "    .dataframe tbody tr th:only-of-type {\n",
       "        vertical-align: middle;\n",
       "    }\n",
       "\n",
       "    .dataframe tbody tr th {\n",
       "        vertical-align: top;\n",
       "    }\n",
       "\n",
       "    .dataframe thead th {\n",
       "        text-align: right;\n",
       "    }\n",
       "</style>\n",
       "<table border=\"1\" class=\"dataframe\">\n",
       "  <thead>\n",
       "    <tr style=\"text-align: right;\">\n",
       "      <th></th>\n",
       "      <th>Yeary</th>\n",
       "      <th>Payments</th>\n",
       "      <th>Lag_payment</th>\n",
       "      <th>Growth_Rate</th>\n",
       "    </tr>\n",
       "  </thead>\n",
       "  <tbody>\n",
       "    <tr>\n",
       "      <th>0</th>\n",
       "      <td>2016</td>\n",
       "      <td>59362.34</td>\n",
       "      <td>0.00</td>\n",
       "      <td>NaN</td>\n",
       "    </tr>\n",
       "    <tr>\n",
       "      <th>1</th>\n",
       "      <td>2017</td>\n",
       "      <td>7249746.73</td>\n",
       "      <td>59362.34</td>\n",
       "      <td>12112.7</td>\n",
       "    </tr>\n",
       "    <tr>\n",
       "      <th>2</th>\n",
       "      <td>2018</td>\n",
       "      <td>8699763.05</td>\n",
       "      <td>7249746.73</td>\n",
       "      <td>20.0</td>\n",
       "    </tr>\n",
       "  </tbody>\n",
       "</table>\n",
       "</div>"
      ],
      "text/plain": [
       "   Yeary    Payments  Lag_payment  Growth_Rate\n",
       "0   2016    59362.34         0.00          NaN\n",
       "1   2017  7249746.73     59362.34      12112.7\n",
       "2   2018  8699763.05   7249746.73         20.0"
      ]
     },
     "execution_count": 16,
     "metadata": {},
     "output_type": "execute_result"
    }
   ],
   "source": [
    " query = \"\"\"  \n",
    "with a as\n",
    "(select year(o.order_purchase_timestamp) 'Yeary',\n",
    "round(sum(p.payment_value),2) 'Payments'\n",
    " from ecommerce.payments p\n",
    "left join ecommerce.orders o on o.order_id = p.order_id\n",
    "GROUP BY Yeary\n",
    "ORDER BY Yeary)\n",
    "select a.Yeary,a.Payments,lag(a.Payments,1,0) over(ORDER BY a.Yeary) 'Lag_payment',\n",
    "round((a.Payments - lag(a.Payments,1,0) over(ORDER BY a.Yeary))/\n",
    "(lag(a.Payments,1,0) over(ORDER BY a.Yeary))*100,2) as 'Growth_Rate'\n",
    "from a;\n",
    "\n",
    "\"\"\"\n",
    "\n",
    "cur.execute(query)\n",
    "data = cur.fetchall()\n",
    "data\n",
    "\n",
    "df = pd.DataFrame(data)\n",
    "df.head()"
   ]
  },
  {
   "cell_type": "markdown",
   "id": "eeb62b02",
   "metadata": {},
   "source": [
    "### 14. Calculate the retention rate of customers, defined as the percentage of customers who make another purchase within 6 months of their first purchase."
   ]
  },
  {
   "cell_type": "code",
   "execution_count": 17,
   "id": "7644e3a4",
   "metadata": {},
   "outputs": [
    {
     "data": {
      "text/html": [
       "<div>\n",
       "<style scoped>\n",
       "    .dataframe tbody tr th:only-of-type {\n",
       "        vertical-align: middle;\n",
       "    }\n",
       "\n",
       "    .dataframe tbody tr th {\n",
       "        vertical-align: top;\n",
       "    }\n",
       "\n",
       "    .dataframe thead th {\n",
       "        text-align: right;\n",
       "    }\n",
       "</style>\n",
       "<table border=\"1\" class=\"dataframe\">\n",
       "  <thead>\n",
       "    <tr style=\"text-align: right;\">\n",
       "      <th></th>\n",
       "      <th>Retention_Rate</th>\n",
       "    </tr>\n",
       "  </thead>\n",
       "  <tbody>\n",
       "    <tr>\n",
       "      <th>0</th>\n",
       "      <td>None</td>\n",
       "    </tr>\n",
       "  </tbody>\n",
       "</table>\n",
       "</div>"
      ],
      "text/plain": [
       "  Retention_Rate\n",
       "0           None"
      ]
     },
     "execution_count": 17,
     "metadata": {},
     "output_type": "execute_result"
    }
   ],
   "source": [
    " query = \"\"\"  \n",
    "with a as\n",
    "(select c.customer_id,min(o.order_purchase_timestamp) 'First_order_date' from ecommerce.customers c\n",
    "left join ecommerce.orders o on o.customer_id = c.customer_id\n",
    "GROUP BY c.customer_id)\n",
    ",b as\n",
    "(select a.customer_id,count(distinct o.order_purchase_timestamp) nextorder from a\n",
    "join ecommerce.orders o on o.customer_id = a.customer_id\n",
    "and o.order_purchase_timestamp > a.First_order_date\n",
    "and o.order_purchase_timestamp < \n",
    "date_add(First_order_date, interval  6 month)\n",
    "GROUP BY a.customer_id)\n",
    "select count(distinct a.customer_id)/count(distinct b.customer_id)*100  'Retention_Rate'\n",
    "from a join b on b.customer_id = a.customer_id ;\n",
    "\n",
    "\"\"\"\n",
    "\n",
    "cur.execute(query)\n",
    "data = cur.fetchall()\n",
    "data\n",
    "\n",
    "df = pd.DataFrame(data)\n",
    "df.head()"
   ]
  },
  {
   "cell_type": "markdown",
   "id": "cf704348",
   "metadata": {},
   "source": [
    "### 15. Identify the top 3 customers who spent the most money in each year."
   ]
  },
  {
   "cell_type": "code",
   "execution_count": 18,
   "id": "1e7001b9",
   "metadata": {},
   "outputs": [
    {
     "data": {
      "image/png": "[encoded data removed]",
      "text/plain": [
       "<Figure size 432x288 with 1 Axes>"
      ]
     },
     "metadata": {
      "needs_background": "light"
     },
     "output_type": "display_data"
    }
   ],
   "source": [
    " query = \"\"\"  \n",
    "with a as\n",
    "( select year(o.order_purchase_timestamp) 'Year',o.order_id,round(sum(p.payment_value),2) 'Payments'\n",
    " ,DENSE_RANK() OVER(PARTITION BY year(o.order_purchase_timestamp) ORDER BY sum(p.payment_value) desc) rn\n",
    " from ecommerce.orders o\n",
    " left join ecommerce.payments p on p.order_id = o.order_id\n",
    " GROUP BY 1,2)\n",
    " select * from a\n",
    " where a.rn <= 3\n",
    " ;\n",
    " \n",
    "\n",
    "\"\"\"\n",
    "\n",
    "cur.execute(query)\n",
    "data = cur.fetchall()\n",
    "data\n",
    "\n",
    "df = pd.DataFrame(data)\n",
    "df.head()\n",
    "\n",
    "sns.barplot(x = 'order_id', y= 'Payments', hue = 'Year', data = df )\n",
    "plt.xticks(rotation = 45)\n",
    "plt.show()"
   ]
  },
  {
   "cell_type": "code",
   "execution_count": null,
   "id": "7822185a",
   "metadata": {},
   "outputs": [],
   "source": []
  },
  {
   "cell_type": "code",
   "execution_count": null,
   "id": "3254e5f8",
   "metadata": {},
   "outputs": [],
   "source": []
  },
  {
   "cell_type": "code",
   "execution_count": null,
   "id": "0b6b5cc3",
   "metadata": {},
   "outputs": [],
   "source": []
  }
 ],
 "metadata": {
  "kernelspec": {
   "display_name": "Python 3 (ipykernel)",
   "language": "python",
   "name": "python3"
  },
  "language_info": {
   "codemirror_mode": {
    "name": "ipython",
    "version": 3
   },
   "file_extension": ".py",
   "mimetype": "text/x-python",
   "name": "python",
   "nbconvert_exporter": "python",
   "pygments_lexer": "ipython3",
   "version": "3.9.12"
  }
 },
 "nbformat": 4,
 "nbformat_minor": 5
}
